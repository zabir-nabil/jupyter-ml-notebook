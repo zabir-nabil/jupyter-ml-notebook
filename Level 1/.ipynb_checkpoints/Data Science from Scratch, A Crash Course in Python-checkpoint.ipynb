{
 "cells": [
  {
   "cell_type": "markdown",
   "metadata": {},
   "source": [
    "## A Crash course in Python"
   ]
  },
  {
   "cell_type": "code",
   "execution_count": 2,
   "metadata": {
    "scrolled": true
   },
   "outputs": [
    {
     "name": "stdout",
     "output_type": "stream",
     "text": [
      "Hi there, Data Science\n"
     ]
    }
   ],
   "source": [
    "print(\"Hi there, Data Science\")"
   ]
  },
  {
   "cell_type": "code",
   "execution_count": 9,
   "metadata": {},
   "outputs": [
    {
     "name": "stdout",
     "output_type": "stream",
     "text": [
      "0\n"
     ]
    }
   ],
   "source": [
    "abc = 2 + 3 - \\\n",
    "5\n",
    "print(abc)"
   ]
  },
  {
   "cell_type": "code",
   "execution_count": 16,
   "metadata": {
    "collapsed": true
   },
   "outputs": [],
   "source": [
    "def double(x):\n",
    "    return x*2\n",
    "\n",
    "my_double = double # my_double now is a function referencing function double"
   ]
  },
  {
   "cell_type": "code",
   "execution_count": 11,
   "metadata": {},
   "outputs": [
    {
     "name": "stdout",
     "output_type": "stream",
     "text": [
      "<function double at 0x0000000FB1D49D90>\n"
     ]
    }
   ],
   "source": [
    "print(my_double)"
   ]
  },
  {
   "cell_type": "code",
   "execution_count": 12,
   "metadata": {
    "collapsed": true
   },
   "outputs": [],
   "source": [
    "x = my_double(2)"
   ]
  },
  {
   "cell_type": "code",
   "execution_count": 17,
   "metadata": {},
   "outputs": [
    {
     "name": "stdout",
     "output_type": "stream",
     "text": [
      "4\n"
     ]
    }
   ],
   "source": [
    "print(x)"
   ]
  },
  {
   "cell_type": "code",
   "execution_count": 18,
   "metadata": {
    "collapsed": true
   },
   "outputs": [],
   "source": [
    "# sending a function as a function parameter\n",
    "def func_main(func_param, value):\n",
    "    return func_param(value)"
   ]
  },
  {
   "cell_type": "code",
   "execution_count": 19,
   "metadata": {},
   "outputs": [
    {
     "name": "stdout",
     "output_type": "stream",
     "text": [
      "8\n"
     ]
    }
   ],
   "source": [
    "print(func_main(my_double,x))"
   ]
  },
  {
   "cell_type": "code",
   "execution_count": 20,
   "metadata": {},
   "outputs": [
    {
     "name": "stdout",
     "output_type": "stream",
     "text": [
      "8\n"
     ]
    }
   ],
   "source": [
    "print(func_main(double,x))"
   ]
  },
  {
   "cell_type": "code",
   "execution_count": 22,
   "metadata": {},
   "outputs": [
    {
     "name": "stdout",
     "output_type": "stream",
     "text": [
      "1 \n",
      "  \n"
     ]
    }
   ],
   "source": [
    "new_line = \"\\n\"\n",
    "print(len(new_line), new_line, \" \")"
   ]
  },
  {
   "cell_type": "code",
   "execution_count": 24,
   "metadata": {},
   "outputs": [
    {
     "name": "stdout",
     "output_type": "stream",
     "text": [
      "2   \\n\n"
     ]
    }
   ],
   "source": [
    "new_line_raw = r\"\\n\"\n",
    "print(len(new_line_raw),   \" \", new_line_raw)"
   ]
  },
  {
   "cell_type": "code",
   "execution_count": 27,
   "metadata": {
    "collapsed": true
   },
   "outputs": [],
   "source": [
    "multi_line = \"\"\"Data Science is cool\n",
    "Data Science is cool (2)\n",
    "Data Science is cool (3)\"\"\""
   ]
  },
  {
   "cell_type": "code",
   "execution_count": 28,
   "metadata": {},
   "outputs": [
    {
     "name": "stdout",
     "output_type": "stream",
     "text": [
      "Data Science is cool\n",
      "Data Science is cool (2)\n",
      "Data Science is cool (3)\n"
     ]
    }
   ],
   "source": [
    "print(multi_line)"
   ]
  },
  {
   "cell_type": "code",
   "execution_count": 29,
   "metadata": {},
   "outputs": [
    {
     "name": "stdout",
     "output_type": "stream",
     "text": [
      "Can't divide by 0\n"
     ]
    }
   ],
   "source": [
    "try:\n",
    "    print(0/0)\n",
    "except ZeroDivisionError:\n",
    "    print(\"Can't divide by 0\")"
   ]
  },
  {
   "cell_type": "code",
   "execution_count": 30,
   "metadata": {
    "collapsed": true
   },
   "outputs": [],
   "source": [
    "x = [1,2,'Hi',0.56]"
   ]
  },
  {
   "cell_type": "code",
   "execution_count": 33,
   "metadata": {},
   "outputs": [
    {
     "name": "stdout",
     "output_type": "stream",
     "text": [
      "[1, 2, 'Hi', 0.56]\n"
     ]
    }
   ],
   "source": [
    "print(x)"
   ]
  },
  {
   "cell_type": "code",
   "execution_count": 34,
   "metadata": {},
   "outputs": [
    {
     "name": "stdout",
     "output_type": "stream",
     "text": [
      "[2, 'Hi']\n"
     ]
    }
   ],
   "source": [
    "print(x[1:-1]) # index starts with 0, and the last one -1 (last element) is ignored"
   ]
  },
  {
   "cell_type": "code",
   "execution_count": 36,
   "metadata": {},
   "outputs": [
    {
     "data": {
      "text/plain": [
       "True"
      ]
     },
     "execution_count": 36,
     "metadata": {},
     "output_type": "execute_result"
    }
   ],
   "source": [
    "0.56 in x  # O(n) for lists"
   ]
  },
  {
   "cell_type": "code",
   "execution_count": 39,
   "metadata": {
    "collapsed": true
   },
   "outputs": [],
   "source": [
    "xx = []\n",
    "for i in range(1,11):\n",
    "    xx.append(i) # append"
   ]
  },
  {
   "cell_type": "code",
   "execution_count": 38,
   "metadata": {},
   "outputs": [
    {
     "name": "stdout",
     "output_type": "stream",
     "text": [
      "[1, 2, 3, 4, 5, 6, 7, 8, 9, 10]\n"
     ]
    }
   ],
   "source": [
    "print(xx)"
   ]
  },
  {
   "cell_type": "code",
   "execution_count": 40,
   "metadata": {
    "collapsed": true
   },
   "outputs": [],
   "source": [
    "xx.extend([11, 12, 13])"
   ]
  },
  {
   "cell_type": "code",
   "execution_count": 41,
   "metadata": {},
   "outputs": [
    {
     "name": "stdout",
     "output_type": "stream",
     "text": [
      "[1, 2, 3, 4, 5, 6, 7, 8, 9, 10, 11, 12, 13]\n"
     ]
    }
   ],
   "source": [
    "print(xx)"
   ]
  },
  {
   "cell_type": "code",
   "execution_count": 42,
   "metadata": {
    "collapsed": true
   },
   "outputs": [],
   "source": [
    "yy = xx + [14, 15]"
   ]
  },
  {
   "cell_type": "code",
   "execution_count": 43,
   "metadata": {},
   "outputs": [
    {
     "name": "stdout",
     "output_type": "stream",
     "text": [
      "[1, 2, 3, 4, 5, 6, 7, 8, 9, 10, 11, 12, 13, 14, 15]\n"
     ]
    }
   ],
   "source": [
    "print(yy)"
   ]
  },
  {
   "cell_type": "code",
   "execution_count": 45,
   "metadata": {},
   "outputs": [
    {
     "name": "stdout",
     "output_type": "stream",
     "text": [
      "[[0, 10], [1, 11], [2, 12], [3, 13], [4, 14], [5, 15], [6, 16], [7, 17], [8, 18], [9, 19]]\n"
     ]
    }
   ],
   "source": [
    "lofl = []\n",
    "for i in range(10): # range starting with 0\n",
    "    lofl.append([i,i+10])\n",
    "print(lofl)"
   ]
  },
  {
   "cell_type": "code",
   "execution_count": 50,
   "metadata": {},
   "outputs": [
    {
     "name": "stdout",
     "output_type": "stream",
     "text": [
      "10 11 12 13 14 15 16 17 18 19 "
     ]
    }
   ],
   "source": [
    "for _, y in lofl: # pythonic, we are not using the first element, so just name it with _\n",
    "    print(y, end = ' ')\n",
    "    "
   ]
  },
  {
   "cell_type": "code",
   "execution_count": 51,
   "metadata": {
    "collapsed": true
   },
   "outputs": [],
   "source": [
    "a_tuple = 1, 2, 3"
   ]
  },
  {
   "cell_type": "code",
   "execution_count": 52,
   "metadata": {},
   "outputs": [
    {
     "name": "stdout",
     "output_type": "stream",
     "text": [
      "(1, 2, 3)\n"
     ]
    }
   ],
   "source": [
    "print(a_tuple)"
   ]
  },
  {
   "cell_type": "code",
   "execution_count": 53,
   "metadata": {
    "collapsed": true
   },
   "outputs": [],
   "source": [
    "def swap_var(x,y):\n",
    "    x, y = y, x\n",
    "    return x, y, x + y"
   ]
  },
  {
   "cell_type": "code",
   "execution_count": 54,
   "metadata": {},
   "outputs": [
    {
     "name": "stdout",
     "output_type": "stream",
     "text": [
      "(5, 3, 8)\n"
     ]
    }
   ],
   "source": [
    "print(swap_var(3,5))"
   ]
  },
  {
   "cell_type": "code",
   "execution_count": 1,
   "metadata": {
    "collapsed": true
   },
   "outputs": [],
   "source": [
    "my_dict = { 12 : 15, 'hi' : True, 45 : 'Any' }"
   ]
  },
  {
   "cell_type": "code",
   "execution_count": 3,
   "metadata": {},
   "outputs": [
    {
     "name": "stdout",
     "output_type": "stream",
     "text": [
      "15   True   Any\n"
     ]
    }
   ],
   "source": [
    "print(my_dict[12], ' ',my_dict['hi'],' ', my_dict[45])"
   ]
  },
  {
   "cell_type": "code",
   "execution_count": 5,
   "metadata": {},
   "outputs": [
    {
     "name": "stdout",
     "output_type": "stream",
     "text": [
      "True\n",
      "False\n"
     ]
    }
   ],
   "source": [
    "# check for membership\n",
    "print('hi' in my_dict)\n",
    "print('Nope' in my_dict)"
   ]
  },
  {
   "cell_type": "code",
   "execution_count": 8,
   "metadata": {},
   "outputs": [
    {
     "name": "stdout",
     "output_type": "stream",
     "text": [
      "True\n",
      "-1\n"
     ]
    }
   ],
   "source": [
    "dvinf = default_value_if_not_found = -1\n",
    "print(my_dict.get('hi',dvinf)) # get method\n",
    "print(my_dict.get('Nope',dvinf))"
   ]
  },
  {
   "cell_type": "code",
   "execution_count": 10,
   "metadata": {},
   "outputs": [
    {
     "name": "stdout",
     "output_type": "stream",
     "text": [
      "dict_keys([12, 'hi', 45])\n",
      "dict_values([15, True, 'Any'])\n",
      "dict_items([(12, 15), ('hi', True), (45, 'Any')])\n"
     ]
    }
   ],
   "source": [
    "key_list = my_dict.keys()\n",
    "value_list = my_dict.values()\n",
    "item_list = my_dict.items()\n",
    "print(key_list)   # list\n",
    "print(value_list)   # list\n",
    "print(item_list)    # list of tuple"
   ]
  },
  {
   "cell_type": "code",
   "execution_count": 11,
   "metadata": {},
   "outputs": [
    {
     "name": "stdout",
     "output_type": "stream",
     "text": [
      "123\n"
     ]
    }
   ],
   "source": [
    "dict_2 = { (1,2,3) : 123, '123' : 123} # but we can't do [1,2,3] : 123 # dictionary keys must be immutable\n",
    "print(dict_2[(1,2,3)])"
   ]
  },
  {
   "cell_type": "code",
   "execution_count": 14,
   "metadata": {},
   "outputs": [],
   "source": [
    "# dict_2 = { [1,2,3] : 123, '123' : 123} # but we can't do [1,2,3] : 123 # dictionary keys must be immutable\n",
    "# print(dict_2[[1,2,3]])\n",
    "# TypeError: unhashable type: 'list'"
   ]
  },
  {
   "cell_type": "code",
   "execution_count": 15,
   "metadata": {
    "collapsed": true
   },
   "outputs": [],
   "source": [
    "lofs = ['aye', 'hi', 'hello', 'hi', 'hey', 'hello', 'oye']"
   ]
  },
  {
   "cell_type": "code",
   "execution_count": 17,
   "metadata": {},
   "outputs": [
    {
     "name": "stdout",
     "output_type": "stream",
     "text": [
      "{'aye': 1, 'hi': 2, 'hello': 2, 'hey': 1, 'oye': 1}\n"
     ]
    }
   ],
   "source": [
    "word_count = {}\n",
    "for word in lofs:\n",
    "    count = word_count.get(word,0)\n",
    "    word_count[word] = count + 1\n",
    "\n",
    "print(word_count)"
   ]
  },
  {
   "cell_type": "code",
   "execution_count": 19,
   "metadata": {},
   "outputs": [
    {
     "name": "stdout",
     "output_type": "stream",
     "text": [
      "defaultdict(<class 'int'>, {'aye': 1, 'hi': 2, 'hello': 2, 'hey': 1, 'oye': 1})\n"
     ]
    }
   ],
   "source": [
    "from collections import defaultdict\n",
    "\n",
    "word_count_dd = defaultdict(int) # default value 0\n",
    "for word in lofs:\n",
    "    word_count_dd[word] = word_count_dd[word] + 1\n",
    "print(word_count_dd)"
   ]
  },
  {
   "cell_type": "code",
   "execution_count": 20,
   "metadata": {},
   "outputs": [
    {
     "name": "stdout",
     "output_type": "stream",
     "text": [
      "defaultdict(<class 'dict'>, {'Hi': {'There': 'Data Sceince'}})\n",
      "{'There': 'Data Sceince'}\n",
      "Data Sceince\n"
     ]
    }
   ],
   "source": [
    "dd_dict = defaultdict(dict) # default empty dict\n",
    "dd_dict['Hi']['There'] = 'Data Sceince'\n",
    "print(dd_dict)\n",
    "print(dd_dict['Hi'])\n",
    "print(dd_dict['Hi']['There'])"
   ]
  },
  {
   "cell_type": "code",
   "execution_count": 29,
   "metadata": {},
   "outputs": [
    {
     "name": "stdout",
     "output_type": "stream",
     "text": [
      "Counter({0: 2, 1: 1, 2: 1})\n"
     ]
    }
   ],
   "source": [
    "from collections import Counter\n",
    "c = Counter([0, 1, 2, 0]) # 0 appears twice, 1 appears once, 2 appears once\n",
    "print(c)"
   ]
  },
  {
   "cell_type": "code",
   "execution_count": 22,
   "metadata": {
    "collapsed": true
   },
   "outputs": [],
   "source": [
    "word_cnt = Counter(lofs)"
   ]
  },
  {
   "cell_type": "code",
   "execution_count": 25,
   "metadata": {},
   "outputs": [
    {
     "name": "stdout",
     "output_type": "stream",
     "text": [
      "Counter({'hi': 2, 'hello': 2, 'aye': 1, 'hey': 1, 'oye': 1})\n"
     ]
    }
   ],
   "source": [
    "print(word_cnt) # sorted"
   ]
  },
  {
   "cell_type": "code",
   "execution_count": 24,
   "metadata": {},
   "outputs": [
    {
     "name": "stdout",
     "output_type": "stream",
     "text": [
      "[('hi', 2), ('hello', 2)]\n"
     ]
    }
   ],
   "source": [
    "print(word_cnt.most_common(2))"
   ]
  },
  {
   "cell_type": "code",
   "execution_count": 28,
   "metadata": {},
   "outputs": [
    {
     "name": "stdout",
     "output_type": "stream",
     "text": [
      "hi   2\n",
      "hello   2\n",
      "aye   1\n",
      "hey   1\n"
     ]
    }
   ],
   "source": [
    "for w, c in word_cnt.most_common(4): # we can't do w, c in word_cnt cause word_cnt is a counter object where most_common \n",
    "    print(w, ' ', c)                 # returns a list of tuple"
   ]
  },
  {
   "cell_type": "code",
   "execution_count": 30,
   "metadata": {},
   "outputs": [
    {
     "name": "stdout",
     "output_type": "stream",
     "text": [
      "True\n"
     ]
    }
   ],
   "source": [
    "s_1 = set()\n",
    "s_1.add('Hi')\n",
    "s_1.add(12)\n",
    "print(12 in s_1)"
   ]
  },
  {
   "cell_type": "code",
   "execution_count": 31,
   "metadata": {},
   "outputs": [
    {
     "name": "stdout",
     "output_type": "stream",
     "text": [
      "True\n"
     ]
    }
   ],
   "source": [
    "a_list = [1,23,45,56,'Joker']\n",
    "print('Joker' in a_list) # O(n)"
   ]
  },
  {
   "cell_type": "code",
   "execution_count": 34,
   "metadata": {},
   "outputs": [
    {
     "name": "stdout",
     "output_type": "stream",
     "text": [
      "True\n"
     ]
    }
   ],
   "source": [
    "a_set = set(a_list)\n",
    "print('Joker' in a_set) # O(log(n))"
   ]
  },
  {
   "cell_type": "code",
   "execution_count": 35,
   "metadata": {},
   "outputs": [
    {
     "name": "stdout",
     "output_type": "stream",
     "text": [
      "[1, 1, 2, 3, 2, 4, 5, 4]\n",
      "[1, 2, 3, 4, 5]\n"
     ]
    }
   ],
   "source": [
    "rep_l = [1,1,2,3,2,4,5,4]\n",
    "print(rep_l)\n",
    "nrep_l = list(set(rep_l))\n",
    "print(nrep_l)"
   ]
  },
  {
   "cell_type": "code",
   "execution_count": 38,
   "metadata": {},
   "outputs": [
    {
     "name": "stdout",
     "output_type": "stream",
     "text": [
      "Nabil\n",
      "Zabir\n"
     ]
    }
   ],
   "source": [
    "# ternary if-else\n",
    "my_name = \"Nabil\" if 1 in nrep_l else \"Zabir\"\n",
    "print(my_name)\n",
    "my_name = \"Nabil\" if 6 in nrep_l else \"Zabir\"\n",
    "print(my_name)"
   ]
  },
  {
   "cell_type": "code",
   "execution_count": 44,
   "metadata": {},
   "outputs": [
    {
     "name": "stdout",
     "output_type": "stream",
     "text": [
      "False\n",
      "True\n"
     ]
    }
   ],
   "source": [
    "x = None\n",
    "print(x is not None) # x is None\n",
    "print(6 not in rep_l)"
   ]
  },
  {
   "cell_type": "code",
   "execution_count": 50,
   "metadata": {},
   "outputs": [
    {
     "name": "stdout",
     "output_type": "stream",
     "text": [
      "False False True True\n"
     ]
    }
   ],
   "source": [
    "print(bool([]), bool(set()), bool(not None), not bool(0.0))"
   ]
  },
  {
   "cell_type": "code",
   "execution_count": 51,
   "metadata": {},
   "outputs": [
    {
     "name": "stdout",
     "output_type": "stream",
     "text": [
      "init\n"
     ]
    }
   ],
   "source": [
    "str1 = ''\n",
    "if not str1:\n",
    "    str1 = 'init'\n",
    "print(str1)"
   ]
  },
  {
   "cell_type": "code",
   "execution_count": 60,
   "metadata": {},
   "outputs": [
    {
     "name": "stdout",
     "output_type": "stream",
     "text": [
      "[-4, -1, 1, 2, 3, 3, 5]\n",
      "[1, -1, 2, 3, 3, -4, 5]\n",
      "[5, -4, 3, 3, 2, 1, -1]\n",
      "[1, 2, 4, 3, 5, 1, 3]\n"
     ]
    }
   ],
   "source": [
    "yy = [1,2,-4,3,5,-1,3]\n",
    "print(sorted(yy))\n",
    "print(sorted(yy, key = abs))\n",
    "print(sorted(yy, key = abs, reverse = True))\n",
    "for i in range(len(yy)):\n",
    "    yy[i] = abs(yy[i])\n",
    "print(yy)"
   ]
  },
  {
   "cell_type": "code",
   "execution_count": 75,
   "metadata": {},
   "outputs": [
    {
     "name": "stdout",
     "output_type": "stream",
     "text": [
      "[1, 3, 5, 7, 9]\n",
      "[1, 3, 5, 7, 9]\n",
      "[1, 3, 5, 7, 9, 1, 4, 9, 16, 25]\n",
      "[1, 3, 5, 7, 9, 1, 4, 9, 16, 25, [1, 23]]\n",
      "[1, 3, 5, 7, 9, 1, 2, 34]\n"
     ]
    }
   ],
   "source": [
    "list1 = [x for x in range(1,11) if x%2 != 0] # List comprehension, cool ways to generate lists\n",
    "print(list1)\n",
    "tup1 = (list1)\n",
    "print(tup1)\n",
    "list2 = list1 + [x*x for x in range(5+1) if x!=0]\n",
    "print(list2)\n",
    "list2.append([1,23])\n",
    "print(list2)\n",
    "list1.extend([1,2,34])\n",
    "print(list1)"
   ]
  },
  {
   "cell_type": "code",
   "execution_count": 77,
   "metadata": {},
   "outputs": [],
   "source": [
    "list3 = [(x,y,z)\n",
    "         for x in range(1,11)   # no : is used\n",
    "         for y in range(x+1,11) # no : is used\n",
    "         for z in range(y+1,11) \n",
    "        ]"
   ]
  },
  {
   "cell_type": "code",
   "execution_count": null,
   "metadata": {
    "collapsed": true
   },
   "outputs": [],
   "source": []
  }
 ],
 "metadata": {
  "kernelspec": {
   "display_name": "Python 3",
   "language": "python",
   "name": "python3"
  },
  "language_info": {
   "codemirror_mode": {
    "name": "ipython",
    "version": 3
   },
   "file_extension": ".py",
   "mimetype": "text/x-python",
   "name": "python",
   "nbconvert_exporter": "python",
   "pygments_lexer": "ipython3",
   "version": "3.6.1"
  }
 },
 "nbformat": 4,
 "nbformat_minor": 2
}
